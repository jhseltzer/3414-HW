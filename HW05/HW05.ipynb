{
 "cells": [
  {
   "cell_type": "code",
   "execution_count": 10,
   "metadata": {},
   "outputs": [],
   "source": [
    "import pandas as pd\n",
    "import numpy as np\n",
    "import matplotlib.pyplot as plt"
   ]
  },
  {
   "cell_type": "code",
   "execution_count": 11,
   "metadata": {},
   "outputs": [],
   "source": [
    "data = pd.read_csv('virginia-history.csv', index_col=0)\n",
    "num_cases = np.flip(data.iloc[0:180]['hospitalizedCurrently'].to_numpy())\n",
    "time_index = np.linspace(0,180,180)\n",
    "num_days = len(time_index)"
   ]
  },
  {
   "cell_type": "code",
   "execution_count": 12,
   "metadata": {
    "scrolled": false
   },
   "outputs": [
    {
     "data": {
      "text/plain": [
       "Text(0, 0.5, 'Num cases')"
      ]
     },
     "execution_count": 12,
     "metadata": {},
     "output_type": "execute_result"
    },
    {
     "data": {
      "image/png": "[encoded data removed]",
      "text/plain": [
       "<Figure size 432x288 with 1 Axes>"
      ]
     },
     "metadata": {
      "needs_background": "light"
     },
     "output_type": "display_data"
    }
   ],
   "source": [
    "plt.plot(time_index, num_cases)\n",
    "plt.xlabel('Day number')\n",
    "plt.ylabel('Num cases')"
   ]
  },
  {
   "cell_type": "raw",
   "metadata": {},
   "source": [
    "num_cases_smooth = np.zeros(len(num_cases))\n",
    "for i in range(len(num_cases_smooth)):\n",
    "    count = 0\n",
    "    sum = 0\n",
    "    \n",
    "    #sometimes the 4 days before and the 4 days after may not exist\n",
    "    #if it does not exist just do not include it in the average\n",
    "    if i-4>=0:\n",
    "        sum = sum + num_cases[i-4]\n",
    "        count = count + 1\n",
    "    if i-3>=0:\n",
    "        sum = sum + num_cases[i-3]\n",
    "        count = count + 1\n",
    "    if i-2>=0:\n",
    "        sum = sum + num_cases[i-2]\n",
    "        count = count + 1\n",
    "    if i-1>=0:\n",
    "        sum = sum + num_cases[i-1]\n",
    "        count = count + 1\n",
    "    #current element always exists\n",
    "    sum = sum + num_cases[i]\n",
    "    count = count + 1\n",
    "    if i+1<len(num_cases_smooth):\n",
    "        sum = sum + num_cases[i+1]\n",
    "        count = count + 1\n",
    "    if i+2<len(num_cases_smooth):\n",
    "        sum = sum + num_cases[i+2]\n",
    "        count = count + 1\n",
    "    if i+3<len(num_cases_smooth):\n",
    "        sum = sum + num_cases[i+3]\n",
    "        count = count + 1\n",
    "    if i+4<len(num_cases_smooth):\n",
    "        sum = sum + num_cases[i+4]\n",
    "        count = count + 1\n",
    "    \n",
    "    avg = sum/count\n",
    "    num_cases_smooth[i] = avg"
   ]
  },
  {
   "cell_type": "code",
   "execution_count": 13,
   "metadata": {},
   "outputs": [
    {
     "ename": "NameError",
     "evalue": "name 'num_cases_smooth' is not defined",
     "output_type": "error",
     "traceback": [
      "\u001b[1;31m---------------------------------------------------------------------------\u001b[0m",
      "\u001b[1;31mNameError\u001b[0m                                 Traceback (most recent call last)",
      "\u001b[1;32m<ipython-input-13-5ff02a8638ce>\u001b[0m in \u001b[0;36m<module>\u001b[1;34m\u001b[0m\n\u001b[1;32m----> 1\u001b[1;33m \u001b[0mplt\u001b[0m\u001b[1;33m.\u001b[0m\u001b[0mplot\u001b[0m\u001b[1;33m(\u001b[0m\u001b[0mtime_index\u001b[0m\u001b[1;33m,\u001b[0m \u001b[0mnum_cases_smooth\u001b[0m\u001b[1;33m)\u001b[0m\u001b[1;33m\u001b[0m\u001b[1;33m\u001b[0m\u001b[0m\n\u001b[0m\u001b[0;32m      2\u001b[0m \u001b[0mplt\u001b[0m\u001b[1;33m.\u001b[0m\u001b[0mxlabel\u001b[0m\u001b[1;33m(\u001b[0m\u001b[1;34m'Day number'\u001b[0m\u001b[1;33m)\u001b[0m\u001b[1;33m\u001b[0m\u001b[1;33m\u001b[0m\u001b[0m\n\u001b[0;32m      3\u001b[0m \u001b[0mplt\u001b[0m\u001b[1;33m.\u001b[0m\u001b[0mylabel\u001b[0m\u001b[1;33m(\u001b[0m\u001b[1;34m'Num cases (smooth)'\u001b[0m\u001b[1;33m)\u001b[0m\u001b[1;33m\u001b[0m\u001b[1;33m\u001b[0m\u001b[0m\n",
      "\u001b[1;31mNameError\u001b[0m: name 'num_cases_smooth' is not defined"
     ]
    }
   ],
   "source": [
    "plt.plot(time_index, num_cases_smooth)\n",
    "plt.xlabel('Day number')\n",
    "plt.ylabel('Num cases (smooth)')"
   ]
  },
  {
   "cell_type": "code",
   "execution_count": null,
   "metadata": {},
   "outputs": [],
   "source": [
    "from scipy.interpolate import UnivariateSpline"
   ]
  },
  {
   "cell_type": "code",
   "execution_count": null,
   "metadata": {},
   "outputs": [],
   "source": [
    "interpolan = UnivariateSpline(time_index, num_cases_smooth, k=2, s=0)"
   ]
  },
  {
   "cell_type": "code",
   "execution_count": null,
   "metadata": {},
   "outputs": [],
   "source": [
    "point = 4\n",
    "error_at_one_point = abs(num_cases_smooth[point] - interpolan(point))"
   ]
  },
  {
   "cell_type": "code",
   "execution_count": null,
   "metadata": {},
   "outputs": [],
   "source": [
    "error_at_one_point"
   ]
  },
  {
   "cell_type": "code",
   "execution_count": null,
   "metadata": {},
   "outputs": [],
   "source": [
    "interpolationPoints = np.zeros(len(num_cases_smooth))\n",
    "for i in range(len(num_cases_smooth)):\n",
    "    interpolationPoints[i] = interpolan(i)"
   ]
  },
  {
   "cell_type": "code",
   "execution_count": null,
   "metadata": {},
   "outputs": [],
   "source": [
    "plt.figure(figsize=(12,8))\n",
    "plt.plot(time_index, interpolationPoints, 'r', label = 'Interpolated')\n",
    "plt.plot(time_index, num_cases_smooth, 'b',label = 'Smooth Data')\n",
    "plt.plot(time_index, num_cases, 'g',label = 'Original Data')\n",
    "plt.xlabel('Day Number')\n",
    "plt.ylabel('Num Cases')\n",
    "plt.legend()"
   ]
  },
  {
   "cell_type": "code",
   "execution_count": null,
   "metadata": {},
   "outputs": [],
   "source": [
    "#the interpolation follows the smooth data very well\n",
    "#the interpolation also follows the original data well but does not follow the peaks and troughs of it"
   ]
  },
  {
   "cell_type": "code",
   "execution_count": null,
   "metadata": {},
   "outputs": [],
   "source": [
    "error_all_days = np.zeros(len(num_cases))\n",
    "for i in range(len(num_cases)):\n",
    "    error_all_days[i] = abs(interpolationPoints[i] - num_cases[i])"
   ]
  },
  {
   "cell_type": "code",
   "execution_count": null,
   "metadata": {},
   "outputs": [],
   "source": [
    "error_all_days"
   ]
  }
 ],
 "metadata": {
  "kernelspec": {
   "display_name": "Python 3",
   "language": "python",
   "name": "python3"
  },
  "language_info": {
   "codemirror_mode": {
    "name": "ipython",
    "version": 3
   },
   "file_extension": ".py",
   "mimetype": "text/x-python",
   "name": "python",
   "nbconvert_exporter": "python",
   "pygments_lexer": "ipython3",
   "version": "3.7.4"
  }
 },
 "nbformat": 4,
 "nbformat_minor": 4
}
